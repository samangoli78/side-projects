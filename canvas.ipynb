{
 "cells": [
  {
   "cell_type": "code",
   "execution_count": 111,
   "metadata": {},
   "outputs": [],
   "source": [
    "import tkinter as tk\n",
    "import numpy as np\n",
    "from IPython.display import clear_output\n",
    "from time import sleep\n",
    "import os,pickle\n"
   ]
  },
  {
   "cell_type": "code",
   "execution_count": 132,
   "metadata": {},
   "outputs": [
    {
     "name": "stdout",
     "output_type": "stream",
     "text": [
      "selected\n",
      "375\n",
      "256\n"
     ]
    },
    {
     "name": "stderr",
     "output_type": "stream",
     "text": [
      "C:\\Users\\saman\\AppData\\Local\\Temp\\ipykernel_18172\\1862507087.py:41: DeprecationWarning: `row_stack` alias is deprecated. Use `np.vstack` directly.\n",
      "  self.cache.append(np.row_stack([self.x,self.y]))\n"
     ]
    },
    {
     "name": "stdout",
     "output_type": "stream",
     "text": [
      "selected\n",
      "578\n",
      "256\n",
      "selected\n",
      "547\n",
      "256\n"
     ]
    },
    {
     "data": {
      "text/plain": [
       "<__main__.canvas object .>"
      ]
     },
     "execution_count": 132,
     "metadata": {},
     "output_type": "execute_result"
    }
   ],
   "source": [
    "class canvas(tk.Tk):\n",
    "    def __init__(self):\n",
    "        super().__init__()\n",
    "        self.window=self\n",
    "        canvas=tk.Canvas(self.window)\n",
    "        canvas.pack(fill=\"both\",expand=True)\n",
    "        self.canvas=canvas\n",
    "        self.window.bind(\"<Button-2>\",self.clear)\n",
    "        self.window.bind(\"<Button-3>\",self.clear_all)\n",
    "        \n",
    "        global paint\n",
    "        paint=draw_line(self.window,self.canvas,color=\"#FF5040\")\n",
    "        self.window.mainloop()\n",
    "        \n",
    "    \n",
    "    def clear(self,event):\n",
    "        paint.clear_last()\n",
    "    def clear_all(self,event):\n",
    "        self.canvas.delete(\"all\")\n",
    "        paint.cache=[]\n",
    "    \n",
    "\n",
    "        \n",
    "        \n",
    "\n",
    "\n",
    "canvas()\n"
   ]
  },
  {
   "cell_type": "code",
   "execution_count": 128,
   "metadata": {},
   "outputs": [],
   "source": [
    "class draw_line:\n",
    "    \n",
    "    def __init__(self,root,canvas,color=\"#FFFFFF\",kind=\"line\"):\n",
    "        if kind in [\"line\",\"rectangle\"]:\n",
    "            self.kind=kind\n",
    "        else: \n",
    "            print(\"kind is incorect\")\n",
    "            self=None\n",
    "        self.color=color\n",
    "        self.root=root\n",
    "        self.canvas=canvas\n",
    "        self.root.bind(\"<Button-1>\",self.select)\n",
    "        \n",
    "        \n",
    "        self.x,self.y=[],[]\n",
    "        self.cache=[]\n",
    "    def select(self,event):\n",
    "        self.motion_bind=self.root.bind(\"<Motion>\",self.motion)\n",
    "        self.release_bind=self.root.bind(\"<ButtonRelease>\",self.release)\n",
    "    def motion(self,event):\n",
    "       \n",
    "        x=event.x\n",
    "        y=event.y\n",
    "        if len(self.x)+len(self.y)==0:\n",
    "            print(\"selected\")\n",
    "            print(event.x)\n",
    "            self.x.append(x)\n",
    "            self.y.append(y)\n",
    "        else:\n",
    "            self.x.append(x)\n",
    "            self.y.append(y)\n",
    "            if self.kind==\"line\":\n",
    "                self.canvas.create_line(self.x[-2],self.y[-2],self.x[-1],self.y[-1],fill=self.color)\n",
    "            elif self.kind==\"rectangle\":\n",
    "                self.canvas.create_rectangle(self.x[-2],self.y[-2],self.x[-1],self.y[-1],\n",
    "                    outline=\"#fb0\", fill=\"#fb0\")\n",
    "\n",
    "    def release(self,event):\n",
    "        print(event.state)\n",
    "        if event.state==256:\n",
    "            self.cache.append(np.row_stack([self.x,self.y]))\n",
    "            self.x,self.y=[],[]\n",
    "            self.root.unbind(\"<Motion>\",self.motion_bind)\n",
    "            self.root.unbind(\"<ButtonRelease>\",self.release_bind)\n",
    "\n",
    "    def clear_last(self):\n",
    "        x,y=self.cache.pop()\n",
    "        \n",
    "        self.canvas.delete(\"all\")\n",
    "        for t in self.cache:\n",
    "            x,y=t\n",
    "            self.draw_curve(self.canvas,x,y,color=self.color)\n",
    "\n",
    "    \n",
    "    def draw_curve(self,canvas,x,y,kind=\"line\",color=\"#FFFFFF\"):\n",
    "        print(x,y)\n",
    "        x0,y0=x[0],y[0]\n",
    "        \n",
    "        for x1,y1 in zip(x[1:],y[1:]):\n",
    "            if kind==\"line\":\n",
    "                canvas.create_line(x0,y0,x1,y1,fill=color)\n",
    "            elif kind==\"rectangle\":\n",
    "                canvas.create_rectangle(x0,y0,x1,y1,fill=color,\n",
    "                    outline=\"#fb0\")\n",
    "            x0,y0=x1,y1\n",
    "\n"
   ]
  },
  {
   "cell_type": "code",
   "execution_count": 20,
   "metadata": {},
   "outputs": [
    {
     "data": {
      "text/plain": [
       "(array([1, 2, 3, 4]), [array([1, 2, 3, 4])])"
      ]
     },
     "execution_count": 20,
     "metadata": {},
     "output_type": "execute_result"
    }
   ],
   "source": [
    "a=[np.array([1,2,3,4]),np.array([1,2,3,4])]\n",
    "a.pop(),a"
   ]
  },
  {
   "cell_type": "code",
   "execution_count": 133,
   "metadata": {},
   "outputs": [
    {
     "data": {
      "text/plain": [
       "(181,)"
      ]
     },
     "execution_count": 133,
     "metadata": {},
     "output_type": "execute_result"
    }
   ],
   "source": [
    "paint.cache[0][0].shape\n",
    "    "
   ]
  },
  {
   "cell_type": "code",
   "execution_count": 137,
   "metadata": {},
   "outputs": [],
   "source": [
    "load_data(content=paint.cache,path=r\"C:\\Users\\saman\\Documents\",file_name=\"fourier2\")"
   ]
  },
  {
   "cell_type": "code",
   "execution_count": 126,
   "metadata": {},
   "outputs": [],
   "source": [
    "def read_data(path=None,file_name=None):\n",
    "    path=os.path.join(path,file_name)\n",
    "    if os.path.exists(path):\n",
    "        with open(os.path.join(path,file_name),\"rb\") as file:\n",
    "            return pickle.load(file)\n",
    "    else:\n",
    "        print(\"Could not open file\")\n",
    "        return None\n",
    "def load_data(content=None,path=None,file_name=None):\n",
    "    path=os.path.join(path,file_name)\n",
    "    if not os.path.exists(path):\n",
    "        with open(path,\"wb\") as file:\n",
    "            pickle.dump(content,file)\n",
    "    else:\n",
    "        print(\"File already exists\")"
   ]
  }
 ],
 "metadata": {
  "kernelspec": {
   "display_name": "saman_persuade_1",
   "language": "python",
   "name": "python3"
  },
  "language_info": {
   "codemirror_mode": {
    "name": "ipython",
    "version": 3
   },
   "file_extension": ".py",
   "mimetype": "text/x-python",
   "name": "python",
   "nbconvert_exporter": "python",
   "pygments_lexer": "ipython3",
   "version": "3.12.5"
  }
 },
 "nbformat": 4,
 "nbformat_minor": 2
}
